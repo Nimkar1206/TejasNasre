{
  "nbformat": 4,
  "nbformat_minor": 0,
  "metadata": {
    "colab": {
      "name": "FabricDetectorModel3.ipynb",
      "provenance": [],
      "include_colab_link": true
    },
    "kernelspec": {
      "name": "python3",
      "display_name": "Python 3"
    },
    "accelerator": "GPU"
  },
  "cells": [
    {
      "cell_type": "markdown",
      "metadata": {
        "id": "view-in-github",
        "colab_type": "text"
      },
      "source": [
        "<a href=\"https://colab.research.google.com/github/Nimkar1206/TejasNasre/blob/main/FabricDetectorModel3.ipynb\" target=\"_parent\"><img src=\"https://colab.research.google.com/assets/colab-badge.svg\" alt=\"Open In Colab\"/></a>"
      ]
    },
    {
      "cell_type": "code",
      "metadata": {
        "id": "OSHqrBXGsHRp",
        "colab": {
          "base_uri": "https://localhost:8080/"
        },
        "outputId": "9fccab96-ae70-4ed1-cd6c-942d1a7b4c95"
      },
      "source": [
        "# clone darknet repo\n",
        "!git clone https://github.com/AlexeyAB/darknet"
      ],
      "execution_count": 1,
      "outputs": [
        {
          "output_type": "stream",
          "name": "stderr",
          "text": [
            "Exception in thread Thread-3 (attachment_entry):\n",
            "Traceback (most recent call last):\n",
            "  File \"/usr/lib/python3.11/threading.py\", line 1045, in _bootstrap_inner\n",
            "    self.run()\n",
            "  File \"/usr/lib/python3.11/threading.py\", line 982, in run\n",
            "    self._target(*self._args, **self._kwargs)\n",
            "  File \"/usr/local/lib/python3.11/dist-packages/google/colab/_debugpy.py\", line 52, in attachment_entry\n",
            "    debugpy.listen(_dap_port)\n",
            "  File \"/usr/local/lib/python3.11/dist-packages/debugpy/public_api.py\", line 31, in wrapper\n",
            "    return wrapped(*args, **kwargs)\n",
            "           ^^^^^^^^^^^^^^^^^^^^^^^^\n",
            "  File \"/usr/local/lib/python3.11/dist-packages/debugpy/server/api.py\", line 143, in debug\n",
            "    log.reraise_exception(\"{0}() failed:\", func.__name__, level=\"info\")\n",
            "  File \"/usr/local/lib/python3.11/dist-packages/debugpy/server/api.py\", line 141, in debug\n",
            "    return func(address, settrace_kwargs, **kwargs)\n",
            "           ^^^^^^^^^^^^^^^^^^^^^^^^^^^^^^^^^^^^^^^^\n",
            "  File \"/usr/local/lib/python3.11/dist-packages/debugpy/server/api.py\", line 262, in listen\n",
            "    raise RuntimeError(str(endpoints[\"error\"]))\n",
            "RuntimeError: Can't listen for client connections: [Errno 98] Address already in use\n"
          ]
        },
        {
          "output_type": "stream",
          "name": "stdout",
          "text": [
            "Cloning into 'darknet'...\n",
            "remote: Enumerating objects: 15900, done.\u001b[K\n",
            "remote: Counting objects: 100% (37/37), done.\u001b[K\n",
            "remote: Compressing objects: 100% (32/32), done.\u001b[K\n",
            "remote: Total 15900 (delta 18), reused 13 (delta 5), pack-reused 15863 (from 3)\u001b[K\n",
            "Receiving objects: 100% (15900/15900), 14.48 MiB | 13.89 MiB/s, done.\n",
            "Resolving deltas: 100% (10701/10701), done.\n"
          ]
        }
      ]
    },
    {
      "cell_type": "code",
      "metadata": {
        "id": "HGjrVM23sjix"
      },
      "source": [
        "# change makefile to have GPU and OPENCV enabled\n",
        "%cd darknet\n",
        "!sed -i 's/OPENCV=0/OPENCV=1/' Makefile\n",
        "!sed -i 's/GPU=0/GPU=1/' Makefile\n",
        "!sed -i 's/CUDNN=0/CUDNN=1/' Makefile"
      ],
      "execution_count": null,
      "outputs": []
    },
    {
      "cell_type": "code",
      "metadata": {
        "id": "6u1sWyv4smUo"
      },
      "source": [
        "# verify CUDA\n",
        "!/usr/local/cuda/bin/nvcc --version"
      ],
      "execution_count": null,
      "outputs": []
    },
    {
      "cell_type": "code",
      "metadata": {
        "id": "GZQMmiw9spZ5"
      },
      "source": [
        "# make darknet (build)\n",
        "!make"
      ],
      "execution_count": null,
      "outputs": []
    },
    {
      "cell_type": "code",
      "metadata": {
        "id": "lDWDh1kjst1c"
      },
      "source": [
        "# define helper functions\n",
        "def imShow(path):\n",
        "  import cv2\n",
        "  import matplotlib.pyplot as plt\n",
        "  %matplotlib inline\n",
        "\n",
        "  image = cv2.imread(path)\n",
        "  height, width = image.shape[:2]\n",
        "  resized_image = cv2.resize(image,(3*width, 3*height), interpolation = cv2.INTER_CUBIC)\n",
        "\n",
        "  fig = plt.gcf()\n",
        "  fig.set_size_inches(18, 10)\n",
        "  plt.axis(\"off\")\n",
        "  plt.imshow(cv2.cvtColor(resized_image, cv2.COLOR_BGR2RGB))\n",
        "  plt.show()\n",
        "\n",
        "# use this to upload files\n",
        "def upload():\n",
        "  from google.colab import files\n",
        "  uploaded = files.upload()\n",
        "  for name, data in uploaded.items():\n",
        "    with open(name, 'wb') as f:\n",
        "      f.write(data)\n",
        "      print ('saved file', name)\n",
        "\n",
        "# use this to download a file\n",
        "def download(path):\n",
        "  from google.colab import files\n",
        "  files.download(path)"
      ],
      "execution_count": null,
      "outputs": []
    },
    {
      "cell_type": "code",
      "metadata": {
        "id": "tN_vasi6tdRp"
      },
      "source": [
        "%cd ..\n",
        "from google.colab import drive\n",
        "drive.mount('/content/gdrive')"
      ],
      "execution_count": null,
      "outputs": []
    },
    {
      "cell_type": "code",
      "metadata": {
        "id": "t2HuWDNVukOM"
      },
      "source": [
        "# this creates a symbolic link so that now the path /content/gdrive/My\\ Drive/ is equal to /mydrive\n",
        "!ln -s /content/gdrive/My\\ Drive/ /mydrive\n",
        "!ls /mydrive"
      ],
      "execution_count": null,
      "outputs": []
    },
    {
      "cell_type": "code",
      "metadata": {
        "id": "Q9wKU0jHut-E"
      },
      "source": [
        "ls /mydrive/darknet/"
      ],
      "execution_count": null,
      "outputs": []
    },
    {
      "cell_type": "code",
      "metadata": {
        "id": "L8vgl1KIvDSl"
      },
      "source": [
        "!cp /mydrive/darknet/obj.zip ../"
      ],
      "execution_count": null,
      "outputs": []
    },
    {
      "cell_type": "code",
      "metadata": {
        "id": "kq-UyivOyUHe"
      },
      "source": [
        "!unzip ../obj.zip -d data/"
      ],
      "execution_count": null,
      "outputs": []
    },
    {
      "cell_type": "code",
      "metadata": {
        "id": "i20ingaGygnU"
      },
      "source": [
        "!ls\n",
        "# rename obj_preprocessed file to obj"
      ],
      "execution_count": null,
      "outputs": []
    },
    {
      "cell_type": "code",
      "metadata": {
        "id": "rFhPLwAWyoJy"
      },
      "source": [
        "!cp -r data/obj darknet/data"
      ],
      "execution_count": null,
      "outputs": []
    },
    {
      "cell_type": "code",
      "metadata": {
        "id": "mvxowmz2zRaW"
      },
      "source": [
        "!cp /mydrive/darknet/yolov3_model3.cfg /content/darknet/cfg"
      ],
      "execution_count": null,
      "outputs": []
    },
    {
      "cell_type": "code",
      "metadata": {
        "id": "sJM4HiN06lbJ"
      },
      "source": [
        "!cp /mydrive/darknet/darknet53.conv.74 darknet/"
      ],
      "execution_count": null,
      "outputs": []
    },
    {
      "cell_type": "code",
      "metadata": {
        "id": "FPle5axV6lu2",
        "colab": {
          "base_uri": "https://localhost:8080/",
          "height": 34
        },
        "outputId": "08ac2642-2fab-4484-c0c7-1e421863f05f"
      },
      "source": [
        "!cp /mydrive/darknet/obj.data darknet/data"
      ],
      "execution_count": null,
      "outputs": [
        {
          "output_type": "stream",
          "text": [
            "cp: failed to access 'darknet/data': Not a directory\n"
          ],
          "name": "stdout"
        }
      ]
    },
    {
      "cell_type": "code",
      "metadata": {
        "id": "vrr3b-z86mBX"
      },
      "source": [
        "!cp /mydrive/darknet/classes.names darknet/data"
      ],
      "execution_count": null,
      "outputs": []
    },
    {
      "cell_type": "code",
      "metadata": {
        "id": "GV-GXq8161yc"
      },
      "source": [
        "!cp /mydrive/darknet/train.txt darknet/data"
      ],
      "execution_count": null,
      "outputs": []
    },
    {
      "cell_type": "code",
      "metadata": {
        "id": "07DMjHQi60cz"
      },
      "source": [
        "!cp /mydrive/darknet/test.txt darknet/data"
      ],
      "execution_count": null,
      "outputs": []
    },
    {
      "cell_type": "code",
      "metadata": {
        "id": "m1OHAemG60q2"
      },
      "source": [
        "!cp /mydrive/darknet/valid.txt darknet/data"
      ],
      "execution_count": null,
      "outputs": []
    },
    {
      "cell_type": "code",
      "metadata": {
        "id": "dUqO-jS_4I0H",
        "colab": {
          "base_uri": "https://localhost:8080/",
          "height": 34
        },
        "outputId": "836517dd-1f2e-495a-c5fa-20fb95386a3b"
      },
      "source": [
        "%cd /content/darknet"
      ],
      "execution_count": null,
      "outputs": [
        {
          "output_type": "stream",
          "text": [
            "/content/darknet\n"
          ],
          "name": "stdout"
        }
      ]
    },
    {
      "cell_type": "markdown",
      "metadata": {
        "id": "KP8yCT5NOrMh"
      },
      "source": [
        "# MODEL 3\n",
        "\n",
        "\n",
        "*   Model Architecture- yolov3-spp\n",
        "*   dataset - dataset1 (Stain + Defect_free)\n",
        "*   split - train, test, validation\n",
        "*   preprocessing - no\n",
        "*   config - yolov3_model3.cfg"
      ]
    },
    {
      "cell_type": "code",
      "metadata": {
        "id": "QuW971lQzlOX"
      },
      "source": [
        "!./darknet detector train data/obj.data cfg/yolov3_model3.cfg darknet53.conv.74 -dont_show -map"
      ],
      "execution_count": null,
      "outputs": []
    },
    {
      "cell_type": "markdown",
      "metadata": {
        "id": "dpixdMMbOnjK"
      },
      "source": [
        "https://drive.google.com/file/d/1JwqMopC2FUESWss8FCsDOwQ0Tnt_h5mZ/view?usp=sharing\n",
        "\n",
        "# VALIDATION SET RESULTS\n",
        "\n",
        "https://drive.google.com/file/d/14TH6Cr9Xf-d5J_-uESfC4fEhsckDesSI/view?usp=sharing\n",
        "\n",
        "# TEST SET RESULTS\n",
        "\n",
        "https://drive.google.com/file/d/1FKbjpeFr_nWwWzKmCSMgGnEeSxYwpxti/view?usp=sharing\n"
      ]
    }
  ]
}